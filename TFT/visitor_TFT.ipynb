{
 "cells": [
  {
   "cell_type": "code",
   "execution_count": 1,
   "id": "85a7b15e-b5ca-491a-bfaa-e4402125f1e7",
   "metadata": {},
   "outputs": [],
   "source": [
    "import copy\n",
    "from pathlib import Path\n",
    "import warnings\n",
    "import sys\n",
    "import os\n",
    "\n",
    "import lightning.pytorch as pl\n",
    "from lightning.pytorch.callbacks import EarlyStopping, LearningRateMonitor\n",
    "from lightning.pytorch.loggers import TensorBoardLogger\n",
    "import numpy as np\n",
    "import pandas as pd\n",
    "import torch\n",
    "from tqdm.autonotebook import tqdm\n",
    "from pytorch_forecasting import Baseline, TemporalFusionTransformer, TimeSeriesDataSet\n",
    "from pytorch_forecasting.data import GroupNormalizer\n",
    "from pytorch_forecasting.metrics import MAE, SMAPE, PoissonLoss, QuantileLoss\n",
    "from pytorch_forecasting.models.temporal_fusion_transformer.tuning import optimize_hyperparameters"
   ]
  },
  {
   "cell_type": "code",
   "execution_count": 2,
   "id": "6241f241-5855-456a-a070-df72875c1a7a",
   "metadata": {},
   "outputs": [],
   "source": [
    "# Add the path to your DataPreprocessor.py file\n",
    "sys.path.append(os.path.abspath(\"../Data_preprocessing\"))\n",
    "\n",
    "from DataPreprocessor import DataPreprocessor\n",
    "\n",
    "# Now you can use the DataPreprocessor class as intended\n"
   ]
  },
  {
   "cell_type": "code",
   "execution_count": 3,
   "id": "1a197c98-2aa8-4ee2-95f3-796af9a65161",
   "metadata": {},
   "outputs": [],
   "source": [
    "preprocessing = DataPreprocessor()\n",
    "visitor_data = pd.read_csv(\"./data/BesucherMessungExport.csv\")\n",
    "meteo_csv_directory = \"./data/exogen_data\"\n",
    "merged_visitor_meteo_dataframes = preprocessing.get_merged_visitor_meteo_data(visitor_data, meteo_csv_directory=meteo_csv_directory, prepare_for_ml=True)\n",
    "data = merged_visitor_meteo_dataframes[\"Hertensteinstrasse\"]"
   ]
  },
  {
   "cell_type": "code",
   "execution_count": 4,
   "id": "97a9dde8-2de1-458e-bdca-fd078f0ab207",
   "metadata": {
    "scrolled": true
   },
   "outputs": [
    {
     "data": {
      "text/html": [
       "<div>\n",
       "<style scoped>\n",
       "    .dataframe tbody tr th:only-of-type {\n",
       "        vertical-align: middle;\n",
       "    }\n",
       "\n",
       "    .dataframe tbody tr th {\n",
       "        vertical-align: top;\n",
       "    }\n",
       "\n",
       "    .dataframe thead th {\n",
       "        text-align: right;\n",
       "    }\n",
       "</style>\n",
       "<table border=\"1\" class=\"dataframe\">\n",
       "  <thead>\n",
       "    <tr style=\"text-align: right;\">\n",
       "      <th></th>\n",
       "      <th>time</th>\n",
       "      <th>visitors</th>\n",
       "      <th>Air Pressure (hPa)</th>\n",
       "      <th>Precipitation (mm)</th>\n",
       "      <th>Air Temperature (°C)</th>\n",
       "      <th>Precipitation Duration (min)</th>\n",
       "      <th>Snow Depth (cm)</th>\n",
       "      <th>Sunshine Duration (min)</th>\n",
       "      <th>Wind Speed (km/h)</th>\n",
       "      <th>Absolute Humidity (g/m³)</th>\n",
       "      <th>time_idx</th>\n",
       "      <th>group_id</th>\n",
       "    </tr>\n",
       "  </thead>\n",
       "  <tbody>\n",
       "    <tr>\n",
       "      <th>40304</th>\n",
       "      <td>2023-12-06 13:00:00</td>\n",
       "      <td>1.284389</td>\n",
       "      <td>-0.176602</td>\n",
       "      <td>-0.23331</td>\n",
       "      <td>-1.095958</td>\n",
       "      <td>-0.384879</td>\n",
       "      <td>7.131158</td>\n",
       "      <td>4</td>\n",
       "      <td>0.799559</td>\n",
       "      <td>-1.282522</td>\n",
       "      <td>1</td>\n",
       "      <td>0</td>\n",
       "    </tr>\n",
       "    <tr>\n",
       "      <th>40305</th>\n",
       "      <td>2023-12-06 13:10:00</td>\n",
       "      <td>1.253064</td>\n",
       "      <td>-0.176602</td>\n",
       "      <td>-0.23331</td>\n",
       "      <td>-1.121515</td>\n",
       "      <td>-0.384879</td>\n",
       "      <td>7.131158</td>\n",
       "      <td>4</td>\n",
       "      <td>0.198980</td>\n",
       "      <td>-1.308833</td>\n",
       "      <td>2</td>\n",
       "      <td>0</td>\n",
       "    </tr>\n",
       "    <tr>\n",
       "      <th>40306</th>\n",
       "      <td>2023-12-06 13:20:00</td>\n",
       "      <td>1.350159</td>\n",
       "      <td>-0.161979</td>\n",
       "      <td>-0.23331</td>\n",
       "      <td>-1.108737</td>\n",
       "      <td>-0.384879</td>\n",
       "      <td>7.131158</td>\n",
       "      <td>0</td>\n",
       "      <td>0.198980</td>\n",
       "      <td>-1.282522</td>\n",
       "      <td>3</td>\n",
       "      <td>0</td>\n",
       "    </tr>\n",
       "    <tr>\n",
       "      <th>40307</th>\n",
       "      <td>2023-12-06 13:30:00</td>\n",
       "      <td>1.350159</td>\n",
       "      <td>-0.147356</td>\n",
       "      <td>-0.23331</td>\n",
       "      <td>-1.108737</td>\n",
       "      <td>-0.384879</td>\n",
       "      <td>7.131158</td>\n",
       "      <td>0</td>\n",
       "      <td>0.198980</td>\n",
       "      <td>-1.282522</td>\n",
       "      <td>4</td>\n",
       "      <td>0</td>\n",
       "    </tr>\n",
       "    <tr>\n",
       "      <th>40308</th>\n",
       "      <td>2023-12-06 13:40:00</td>\n",
       "      <td>1.511581</td>\n",
       "      <td>-0.132733</td>\n",
       "      <td>-0.23331</td>\n",
       "      <td>-1.147073</td>\n",
       "      <td>-0.384879</td>\n",
       "      <td>7.131158</td>\n",
       "      <td>0</td>\n",
       "      <td>-0.584835</td>\n",
       "      <td>-1.308833</td>\n",
       "      <td>5</td>\n",
       "      <td>0</td>\n",
       "    </tr>\n",
       "    <tr>\n",
       "      <th>...</th>\n",
       "      <td>...</td>\n",
       "      <td>...</td>\n",
       "      <td>...</td>\n",
       "      <td>...</td>\n",
       "      <td>...</td>\n",
       "      <td>...</td>\n",
       "      <td>...</td>\n",
       "      <td>...</td>\n",
       "      <td>...</td>\n",
       "      <td>...</td>\n",
       "      <td>...</td>\n",
       "      <td>...</td>\n",
       "    </tr>\n",
       "    <tr>\n",
       "      <th>82269</th>\n",
       "      <td>2024-09-22 23:10:00</td>\n",
       "      <td>-1.413636</td>\n",
       "      <td>-0.366703</td>\n",
       "      <td>-0.23331</td>\n",
       "      <td>0.041335</td>\n",
       "      <td>-0.384879</td>\n",
       "      <td>-0.140223</td>\n",
       "      <td>0</td>\n",
       "      <td>-0.139776</td>\n",
       "      <td>0.453966</td>\n",
       "      <td>21568</td>\n",
       "      <td>0</td>\n",
       "    </tr>\n",
       "    <tr>\n",
       "      <th>82270</th>\n",
       "      <td>2024-09-22 23:20:00</td>\n",
       "      <td>-1.413636</td>\n",
       "      <td>-0.352080</td>\n",
       "      <td>-0.23331</td>\n",
       "      <td>0.041335</td>\n",
       "      <td>-0.384879</td>\n",
       "      <td>-0.140223</td>\n",
       "      <td>0</td>\n",
       "      <td>-0.032556</td>\n",
       "      <td>0.427655</td>\n",
       "      <td>21569</td>\n",
       "      <td>0</td>\n",
       "    </tr>\n",
       "    <tr>\n",
       "      <th>82271</th>\n",
       "      <td>2024-09-22 23:30:00</td>\n",
       "      <td>-1.413636</td>\n",
       "      <td>-0.366703</td>\n",
       "      <td>-0.23331</td>\n",
       "      <td>0.028556</td>\n",
       "      <td>-0.384879</td>\n",
       "      <td>-0.140223</td>\n",
       "      <td>0</td>\n",
       "      <td>-0.291392</td>\n",
       "      <td>0.453966</td>\n",
       "      <td>21570</td>\n",
       "      <td>0</td>\n",
       "    </tr>\n",
       "    <tr>\n",
       "      <th>82272</th>\n",
       "      <td>2024-09-22 23:40:00</td>\n",
       "      <td>-1.413636</td>\n",
       "      <td>-0.366703</td>\n",
       "      <td>-0.23331</td>\n",
       "      <td>0.028556</td>\n",
       "      <td>-0.384879</td>\n",
       "      <td>-0.140223</td>\n",
       "      <td>0</td>\n",
       "      <td>-0.454249</td>\n",
       "      <td>0.453966</td>\n",
       "      <td>21571</td>\n",
       "      <td>0</td>\n",
       "    </tr>\n",
       "    <tr>\n",
       "      <th>82273</th>\n",
       "      <td>2024-09-22 23:50:00</td>\n",
       "      <td>-1.413636</td>\n",
       "      <td>-0.366703</td>\n",
       "      <td>-0.23331</td>\n",
       "      <td>0.028556</td>\n",
       "      <td>-0.384879</td>\n",
       "      <td>-0.140223</td>\n",
       "      <td>0</td>\n",
       "      <td>-1.143530</td>\n",
       "      <td>0.480276</td>\n",
       "      <td>21572</td>\n",
       "      <td>0</td>\n",
       "    </tr>\n",
       "  </tbody>\n",
       "</table>\n",
       "<p>21572 rows × 12 columns</p>\n",
       "</div>"
      ],
      "text/plain": [
       "                     time  visitors  Air Pressure (hPa)  Precipitation (mm)  \\\n",
       "40304 2023-12-06 13:00:00  1.284389           -0.176602            -0.23331   \n",
       "40305 2023-12-06 13:10:00  1.253064           -0.176602            -0.23331   \n",
       "40306 2023-12-06 13:20:00  1.350159           -0.161979            -0.23331   \n",
       "40307 2023-12-06 13:30:00  1.350159           -0.147356            -0.23331   \n",
       "40308 2023-12-06 13:40:00  1.511581           -0.132733            -0.23331   \n",
       "...                   ...       ...                 ...                 ...   \n",
       "82269 2024-09-22 23:10:00 -1.413636           -0.366703            -0.23331   \n",
       "82270 2024-09-22 23:20:00 -1.413636           -0.352080            -0.23331   \n",
       "82271 2024-09-22 23:30:00 -1.413636           -0.366703            -0.23331   \n",
       "82272 2024-09-22 23:40:00 -1.413636           -0.366703            -0.23331   \n",
       "82273 2024-09-22 23:50:00 -1.413636           -0.366703            -0.23331   \n",
       "\n",
       "       Air Temperature (°C)  Precipitation Duration (min)  Snow Depth (cm)  \\\n",
       "40304             -1.095958                     -0.384879         7.131158   \n",
       "40305             -1.121515                     -0.384879         7.131158   \n",
       "40306             -1.108737                     -0.384879         7.131158   \n",
       "40307             -1.108737                     -0.384879         7.131158   \n",
       "40308             -1.147073                     -0.384879         7.131158   \n",
       "...                     ...                           ...              ...   \n",
       "82269              0.041335                     -0.384879        -0.140223   \n",
       "82270              0.041335                     -0.384879        -0.140223   \n",
       "82271              0.028556                     -0.384879        -0.140223   \n",
       "82272              0.028556                     -0.384879        -0.140223   \n",
       "82273              0.028556                     -0.384879        -0.140223   \n",
       "\n",
       "       Sunshine Duration (min)  Wind Speed (km/h)  Absolute Humidity (g/m³)  \\\n",
       "40304                        4           0.799559                 -1.282522   \n",
       "40305                        4           0.198980                 -1.308833   \n",
       "40306                        0           0.198980                 -1.282522   \n",
       "40307                        0           0.198980                 -1.282522   \n",
       "40308                        0          -0.584835                 -1.308833   \n",
       "...                        ...                ...                       ...   \n",
       "82269                        0          -0.139776                  0.453966   \n",
       "82270                        0          -0.032556                  0.427655   \n",
       "82271                        0          -0.291392                  0.453966   \n",
       "82272                        0          -0.454249                  0.453966   \n",
       "82273                        0          -1.143530                  0.480276   \n",
       "\n",
       "       time_idx  group_id  \n",
       "40304         1         0  \n",
       "40305         2         0  \n",
       "40306         3         0  \n",
       "40307         4         0  \n",
       "40308         5         0  \n",
       "...         ...       ...  \n",
       "82269     21568         0  \n",
       "82270     21569         0  \n",
       "82271     21570         0  \n",
       "82272     21571         0  \n",
       "82273     21572         0  \n",
       "\n",
       "[21572 rows x 12 columns]"
      ]
     },
     "execution_count": 4,
     "metadata": {},
     "output_type": "execute_result"
    }
   ],
   "source": [
    "data['time_idx'] = range(1, len(data) + 1)\n",
    "data[\"group_id\"] = 0  # Alle Daten in einer Gruppe\n",
    "data"
   ]
  },
  {
   "cell_type": "code",
   "execution_count": 5,
   "id": "46a62567-b1ba-4c9d-b79a-1a39d7250f8a",
   "metadata": {},
   "outputs": [],
   "source": [
    "max_prediction_length = 6 # eine Stunde\n",
    "max_encoder_length = 24 # 4 Stunden\n",
    "training_cutoff = data[\"time_idx\"].max() - max_prediction_length\n",
    "\n",
    "training = TimeSeriesDataSet(\n",
    "    data[lambda x: x.time_idx <= training_cutoff],\n",
    "    time_idx=\"time_idx\",\n",
    "    target=\"visitors\",\n",
    "    group_ids=[\"group_id\"],\n",
    "    min_encoder_length=max_encoder_length // 2,\n",
    "    max_encoder_length=max_encoder_length,\n",
    "    min_prediction_length=1,\n",
    "    max_prediction_length=max_prediction_length,\n",
    "    time_varying_known_reals=[\"time_idx\"],\n",
    "    time_varying_unknown_reals=[\n",
    "        \"Air Pressure (hPa)\", \"Precipitation (mm)\", \"Air Temperature (°C)\", \n",
    "        \"Precipitation Duration (min)\", \"Snow Depth (cm)\", \"Sunshine Duration (min)\", \n",
    "        \"Wind Speed (km/h)\", \"Absolute Humidity (g/m³)\"\n",
    "    ],\n",
    "    add_relative_time_idx=True,\n",
    "    add_target_scales=True,\n",
    "    add_encoder_length=True,\n",
    ")\n",
    "\n",
    "\n",
    "# create validation set (predict=True) which means to predict the last max_prediction_length points in time\n",
    "# for each series\n",
    "validation = TimeSeriesDataSet.from_dataset(training, data, predict=True, stop_randomization=True)\n",
    "\n",
    "# create dataloaders for model\n",
    "batch_size = 128  # set this between 32 to 128\n",
    "train_dataloader = training.to_dataloader(train=True, batch_size=batch_size, num_workers=0)\n",
    "val_dataloader = validation.to_dataloader(train=False, batch_size=batch_size * 10, num_workers=0)"
   ]
  },
  {
   "cell_type": "code",
   "execution_count": 6,
   "id": "e9a190aa-47a5-41f0-997e-4d97736ddd55",
   "metadata": {},
   "outputs": [
    {
     "name": "stderr",
     "output_type": "stream",
     "text": [
      "/tmp/ipykernel_20215/2174382858.py:2: UserWarning: In pytorch-forecasting models, on versions 1.1.X, the default optimizer defaults to 'adam', if pytorch_optimizer is not installed, otherwise it defaults to 'ranger' from pytorch_optimizer. From version 1.2.0, the default optimizer will be 'adam' regardless of whether pytorch_optimizer is installed, in order to minimize the number of dependencies in default parameter settings. Users who wish to ensure their code continues using 'ranger' as optimizer should ensure that pytorch_optimizer is installed, and set the optimizer parameter explicitly to 'ranger'.\n",
      "  baseline_predictions = Baseline().predict(val_dataloader, return_y=True)\n",
      "/home/jovyan/.local/share/virtualenvs/TFT-hjs_SVFO/lib/python3.11/site-packages/lightning/pytorch/utilities/parsing.py:208: Attribute 'loss' is an instance of `nn.Module` and is already saved during checkpointing. It is recommended to ignore them using `self.save_hyperparameters(ignore=['loss'])`.\n",
      "/home/jovyan/.local/share/virtualenvs/TFT-hjs_SVFO/lib/python3.11/site-packages/lightning/pytorch/utilities/parsing.py:208: Attribute 'logging_metrics' is an instance of `nn.Module` and is already saved during checkpointing. It is recommended to ignore them using `self.save_hyperparameters(ignore=['logging_metrics'])`.\n",
      "GPU available: True (cuda), used: True\n",
      "TPU available: False, using: 0 TPU cores\n",
      "HPU available: False, using: 0 HPUs\n",
      "You are using a CUDA device ('NVIDIA A16') that has Tensor Cores. To properly utilize them, you should set `torch.set_float32_matmul_precision('medium' | 'high')` which will trade-off precision for performance. For more details, read https://pytorch.org/docs/stable/generated/torch.set_float32_matmul_precision.html#torch.set_float32_matmul_precision\n",
      "2024-10-29 11:47:26.520947: E external/local_xla/xla/stream_executor/cuda/cuda_fft.cc:477] Unable to register cuFFT factory: Attempting to register factory for plugin cuFFT when one has already been registered\n",
      "WARNING: All log messages before absl::InitializeLog() is called are written to STDERR\n",
      "E0000 00:00:1730202446.537456   20215 cuda_dnn.cc:8310] Unable to register cuDNN factory: Attempting to register factory for plugin cuDNN when one has already been registered\n",
      "E0000 00:00:1730202446.543652   20215 cuda_blas.cc:1418] Unable to register cuBLAS factory: Attempting to register factory for plugin cuBLAS when one has already been registered\n",
      "2024-10-29 11:47:26.562638: I tensorflow/core/platform/cpu_feature_guard.cc:210] This TensorFlow binary is optimized to use available CPU instructions in performance-critical operations.\n",
      "To enable the following instructions: AVX2 FMA, in other operations, rebuild TensorFlow with the appropriate compiler flags.\n",
      "LOCAL_RANK: 0 - CUDA_VISIBLE_DEVICES: [0]\n",
      "/home/jovyan/.local/share/virtualenvs/TFT-hjs_SVFO/lib/python3.11/site-packages/lightning/pytorch/trainer/connectors/data_connector.py:424: The 'predict_dataloader' does not have many workers which may be a bottleneck. Consider increasing the value of the `num_workers` argument` to `num_workers=127` in the `DataLoader` to improve performance.\n",
      "/home/jovyan/.local/share/virtualenvs/TFT-hjs_SVFO/lib/python3.11/site-packages/sklearn/base.py:493: UserWarning: X does not have valid feature names, but StandardScaler was fitted with feature names\n",
      "  warnings.warn(\n",
      "/home/jovyan/.local/share/virtualenvs/TFT-hjs_SVFO/lib/python3.11/site-packages/sklearn/base.py:493: UserWarning: X does not have valid feature names, but StandardScaler was fitted with feature names\n",
      "  warnings.warn(\n"
     ]
    },
    {
     "data": {
      "text/plain": [
       "tensor(0., device='cuda:0')"
      ]
     },
     "execution_count": 6,
     "metadata": {},
     "output_type": "execute_result"
    }
   ],
   "source": [
    "# calculate baseline mean absolute error, i.e. predict next value as the last available value from the history\n",
    "baseline_predictions = Baseline().predict(val_dataloader, return_y=True)\n",
    "MAE()(baseline_predictions.output, baseline_predictions.y)"
   ]
  },
  {
   "cell_type": "code",
   "execution_count": 7,
   "id": "3b7adef5-0212-4ccd-bbe5-eaae8a9578d5",
   "metadata": {},
   "outputs": [
    {
     "name": "stderr",
     "output_type": "stream",
     "text": [
      "Seed set to 42\n",
      "GPU available: True (cuda), used: True\n",
      "TPU available: False, using: 0 TPU cores\n",
      "HPU available: False, using: 0 HPUs\n"
     ]
    },
    {
     "name": "stdout",
     "output_type": "stream",
     "text": [
      "Number of parameters in network: 9.8k\n"
     ]
    },
    {
     "name": "stderr",
     "output_type": "stream",
     "text": [
      "/home/jovyan/.local/share/virtualenvs/TFT-hjs_SVFO/lib/python3.11/site-packages/lightning/pytorch/utilities/parsing.py:208: Attribute 'loss' is an instance of `nn.Module` and is already saved during checkpointing. It is recommended to ignore them using `self.save_hyperparameters(ignore=['loss'])`.\n",
      "/home/jovyan/.local/share/virtualenvs/TFT-hjs_SVFO/lib/python3.11/site-packages/lightning/pytorch/utilities/parsing.py:208: Attribute 'logging_metrics' is an instance of `nn.Module` and is already saved during checkpointing. It is recommended to ignore them using `self.save_hyperparameters(ignore=['logging_metrics'])`.\n"
     ]
    }
   ],
   "source": [
    "from torch.optim import Adam\n",
    "\n",
    "pl.seed_everything(42)\n",
    "trainer = pl.Trainer(\n",
    "    accelerator=\"gpu\",\n",
    "    # clipping gradients is a hyperparameter and important to prevent divergance\n",
    "    # of the gradient for recurrent neural networks\n",
    "    gradient_clip_val=0.1,\n",
    ")\n",
    "\n",
    "\n",
    "tft = TemporalFusionTransformer.from_dataset(\n",
    "    training,\n",
    "    # not meaningful for finding the learning rate but otherwise very important\n",
    "    learning_rate=0.03,\n",
    "    hidden_size=8,  # most important hyperparameter apart from learning rate\n",
    "    # number of attention heads. Set to up to 4 for large datasets\n",
    "    attention_head_size=1,\n",
    "    dropout=0.1,  # between 0.1 and 0.3 are good values\n",
    "    hidden_continuous_size=8,  # set to <= hidden_size\n",
    "    loss=QuantileLoss(),\n",
    "    optimizer=\"Adam\"\n",
    "    # reduce learning rate if no improvement in validation loss after x epochs\n",
    "    # reduce_on_plateau_patience=1000,\n",
    ")\n",
    "print(f\"Number of parameters in network: {tft.size()/1e3:.1f}k\")"
   ]
  },
  {
   "cell_type": "code",
   "execution_count": 8,
   "id": "00e37575-5006-4373-9199-96fc7248d5b8",
   "metadata": {},
   "outputs": [
    {
     "name": "stderr",
     "output_type": "stream",
     "text": [
      "LOCAL_RANK: 0 - CUDA_VISIBLE_DEVICES: [0]\n"
     ]
    },
    {
     "data": {
      "application/vnd.jupyter.widget-view+json": {
       "model_id": "02f7eb3ebfb54afdbd1b1b6873043613",
       "version_major": 2,
       "version_minor": 0
      },
      "text/plain": [
       "Finding best initial lr:   0%|          | 0/100 [00:00<?, ?it/s]"
      ]
     },
     "metadata": {},
     "output_type": "display_data"
    },
    {
     "name": "stderr",
     "output_type": "stream",
     "text": [
      "`Trainer.fit` stopped: `max_steps=100` reached.\n",
      "Learning rate set to 0.01584893192461113\n",
      "Restoring states from the checkpoint path at /home/jovyan/BAA/TFT/.lr_find_aae5b380-a781-4b4b-8134-df2403a1c957.ckpt\n",
      "Restored all states from the checkpoint at /home/jovyan/BAA/TFT/.lr_find_aae5b380-a781-4b4b-8134-df2403a1c957.ckpt\n"
     ]
    },
    {
     "name": "stdout",
     "output_type": "stream",
     "text": [
      "suggested learning rate: 0.01584893192461113\n"
     ]
    },
    {
     "data": {
      "image/png": "[encoded data removed]",
      "text/plain": [
       "<Figure size 640x480 with 1 Axes>"
      ]
     },
     "metadata": {},
     "output_type": "display_data"
    }
   ],
   "source": [
    "# find optimal learning rate\n",
    "from lightning.pytorch.tuner import Tuner\n",
    "import warnings\n",
    "warnings.filterwarnings(\"ignore\")\n",
    "res = Tuner(trainer).lr_find(\n",
    "    tft,\n",
    "    train_dataloaders=train_dataloader,\n",
    "    val_dataloaders=val_dataloader,\n",
    "    max_lr=10.0,\n",
    "    min_lr=1e-6,\n",
    ")\n",
    "\n",
    "print(f\"suggested learning rate: {res.suggestion()}\")\n",
    "fig = res.plot(show=True, suggest=True)\n",
    "fig.show()\n"
   ]
  },
  {
   "cell_type": "code",
   "execution_count": 9,
   "id": "b23247b6-b7f9-4d40-8c90-a17c5b5cb7ff",
   "metadata": {},
   "outputs": [
    {
     "name": "stderr",
     "output_type": "stream",
     "text": [
      "GPU available: True (cuda), used: True\n",
      "TPU available: False, using: 0 TPU cores\n",
      "HPU available: False, using: 0 HPUs\n"
     ]
    },
    {
     "name": "stdout",
     "output_type": "stream",
     "text": [
      "Number of parameters in network: 23.4k\n"
     ]
    }
   ],
   "source": [
    "# configure network and trainer\n",
    "early_stop_callback = EarlyStopping(monitor=\"val_loss\", min_delta=1e-4, patience=10, verbose=False, mode=\"min\")\n",
    "lr_logger = LearningRateMonitor()  # log the learning rate\n",
    "logger = TensorBoardLogger(\"lightning_logs\")  # logging results to a tensorboard\n",
    "\n",
    "trainer = pl.Trainer(\n",
    "    max_epochs=50,\n",
    "    accelerator=\"gpu\",\n",
    "    enable_model_summary=True,\n",
    "    gradient_clip_val=0.1,\n",
    "    limit_train_batches=50,  # coment in for training, running valiation every 30 batches\n",
    "    # fast_dev_run=True,  # comment in to check that networkor dataset has no serious bugs\n",
    "    callbacks=[lr_logger, early_stop_callback],\n",
    "    logger=logger,\n",
    ")\n",
    "\n",
    "tft = TemporalFusionTransformer.from_dataset(\n",
    "    training,\n",
    "    learning_rate=0.03,\n",
    "    hidden_size=16,\n",
    "    attention_head_size=2,\n",
    "    dropout=0.1,\n",
    "    hidden_continuous_size=8,\n",
    "    loss=QuantileLoss(),\n",
    "    log_interval=10,  # uncomment for learning rate finder and otherwise, e.g. to 10 for logging every 10 batches\n",
    "    optimizer=\"Adam\",\n",
    "    reduce_on_plateau_patience=4,\n",
    ")\n",
    "print(f\"Number of parameters in network: {tft.size()/1e3:.1f}k\")\n"
   ]
  },
  {
   "cell_type": "code",
   "execution_count": 10,
   "id": "7f1658e6-66ab-40f2-9ae7-5df1413db0d2",
   "metadata": {},
   "outputs": [
    {
     "name": "stderr",
     "output_type": "stream",
     "text": [
      "LOCAL_RANK: 0 - CUDA_VISIBLE_DEVICES: [0]\n",
      "\n",
      "   | Name                               | Type                            | Params | Mode \n",
      "------------------------------------------------------------------------------------------------\n",
      "0  | loss                               | QuantileLoss                    | 0      | train\n",
      "1  | logging_metrics                    | ModuleList                      | 0      | train\n",
      "2  | input_embeddings                   | MultiEmbedding                  | 0      | train\n",
      "3  | prescalers                         | ModuleDict                      | 208    | train\n",
      "4  | static_variable_selection          | VariableSelectionNetwork        | 1.7 K  | train\n",
      "5  | encoder_variable_selection         | VariableSelectionNetwork        | 6.6 K  | train\n",
      "6  | decoder_variable_selection         | VariableSelectionNetwork        | 1.2 K  | train\n",
      "7  | static_context_variable_selection  | GatedResidualNetwork            | 1.1 K  | train\n",
      "8  | static_context_initial_hidden_lstm | GatedResidualNetwork            | 1.1 K  | train\n",
      "9  | static_context_initial_cell_lstm   | GatedResidualNetwork            | 1.1 K  | train\n",
      "10 | static_context_enrichment          | GatedResidualNetwork            | 1.1 K  | train\n",
      "11 | lstm_encoder                       | LSTM                            | 2.2 K  | train\n",
      "12 | lstm_decoder                       | LSTM                            | 2.2 K  | train\n",
      "13 | post_lstm_gate_encoder             | GatedLinearUnit                 | 544    | train\n",
      "14 | post_lstm_add_norm_encoder         | AddNorm                         | 32     | train\n",
      "15 | static_enrichment                  | GatedResidualNetwork            | 1.4 K  | train\n",
      "16 | multihead_attn                     | InterpretableMultiHeadAttention | 808    | train\n",
      "17 | post_attn_gate_norm                | GateAddNorm                     | 576    | train\n",
      "18 | pos_wise_ff                        | GatedResidualNetwork            | 1.1 K  | train\n",
      "19 | pre_output_gate_norm               | GateAddNorm                     | 576    | train\n",
      "20 | output_layer                       | Linear                          | 119    | train\n",
      "------------------------------------------------------------------------------------------------\n",
      "23.4 K    Trainable params\n",
      "0         Non-trainable params\n",
      "23.4 K    Total params\n",
      "0.094     Total estimated model params size (MB)\n",
      "380       Modules in train mode\n",
      "0         Modules in eval mode\n"
     ]
    },
    {
     "data": {
      "application/vnd.jupyter.widget-view+json": {
       "model_id": "",
       "version_major": 2,
       "version_minor": 0
      },
      "text/plain": [
       "Sanity Checking: |          | 0/? [00:00<?, ?it/s]"
      ]
     },
     "metadata": {},
     "output_type": "display_data"
    },
    {
     "data": {
      "application/vnd.jupyter.widget-view+json": {
       "model_id": "47f0114334664316a25f9d63f076fb34",
       "version_major": 2,
       "version_minor": 0
      },
      "text/plain": [
       "Training: |          | 0/? [00:00<?, ?it/s]"
      ]
     },
     "metadata": {},
     "output_type": "display_data"
    },
    {
     "data": {
      "application/vnd.jupyter.widget-view+json": {
       "model_id": "",
       "version_major": 2,
       "version_minor": 0
      },
      "text/plain": [
       "Validation: |          | 0/? [00:00<?, ?it/s]"
      ]
     },
     "metadata": {},
     "output_type": "display_data"
    },
    {
     "data": {
      "application/vnd.jupyter.widget-view+json": {
       "model_id": "",
       "version_major": 2,
       "version_minor": 0
      },
      "text/plain": [
       "Validation: |          | 0/? [00:00<?, ?it/s]"
      ]
     },
     "metadata": {},
     "output_type": "display_data"
    },
    {
     "data": {
      "application/vnd.jupyter.widget-view+json": {
       "model_id": "",
       "version_major": 2,
       "version_minor": 0
      },
      "text/plain": [
       "Validation: |          | 0/? [00:00<?, ?it/s]"
      ]
     },
     "metadata": {},
     "output_type": "display_data"
    },
    {
     "data": {
      "application/vnd.jupyter.widget-view+json": {
       "model_id": "",
       "version_major": 2,
       "version_minor": 0
      },
      "text/plain": [
       "Validation: |          | 0/? [00:00<?, ?it/s]"
      ]
     },
     "metadata": {},
     "output_type": "display_data"
    },
    {
     "data": {
      "application/vnd.jupyter.widget-view+json": {
       "model_id": "",
       "version_major": 2,
       "version_minor": 0
      },
      "text/plain": [
       "Validation: |          | 0/? [00:00<?, ?it/s]"
      ]
     },
     "metadata": {},
     "output_type": "display_data"
    },
    {
     "data": {
      "application/vnd.jupyter.widget-view+json": {
       "model_id": "",
       "version_major": 2,
       "version_minor": 0
      },
      "text/plain": [
       "Validation: |          | 0/? [00:00<?, ?it/s]"
      ]
     },
     "metadata": {},
     "output_type": "display_data"
    },
    {
     "data": {
      "application/vnd.jupyter.widget-view+json": {
       "model_id": "",
       "version_major": 2,
       "version_minor": 0
      },
      "text/plain": [
       "Validation: |          | 0/? [00:00<?, ?it/s]"
      ]
     },
     "metadata": {},
     "output_type": "display_data"
    },
    {
     "data": {
      "application/vnd.jupyter.widget-view+json": {
       "model_id": "",
       "version_major": 2,
       "version_minor": 0
      },
      "text/plain": [
       "Validation: |          | 0/? [00:00<?, ?it/s]"
      ]
     },
     "metadata": {},
     "output_type": "display_data"
    },
    {
     "data": {
      "application/vnd.jupyter.widget-view+json": {
       "model_id": "",
       "version_major": 2,
       "version_minor": 0
      },
      "text/plain": [
       "Validation: |          | 0/? [00:00<?, ?it/s]"
      ]
     },
     "metadata": {},
     "output_type": "display_data"
    },
    {
     "data": {
      "application/vnd.jupyter.widget-view+json": {
       "model_id": "",
       "version_major": 2,
       "version_minor": 0
      },
      "text/plain": [
       "Validation: |          | 0/? [00:00<?, ?it/s]"
      ]
     },
     "metadata": {},
     "output_type": "display_data"
    },
    {
     "data": {
      "application/vnd.jupyter.widget-view+json": {
       "model_id": "",
       "version_major": 2,
       "version_minor": 0
      },
      "text/plain": [
       "Validation: |          | 0/? [00:00<?, ?it/s]"
      ]
     },
     "metadata": {},
     "output_type": "display_data"
    },
    {
     "data": {
      "application/vnd.jupyter.widget-view+json": {
       "model_id": "",
       "version_major": 2,
       "version_minor": 0
      },
      "text/plain": [
       "Validation: |          | 0/? [00:00<?, ?it/s]"
      ]
     },
     "metadata": {},
     "output_type": "display_data"
    },
    {
     "data": {
      "application/vnd.jupyter.widget-view+json": {
       "model_id": "",
       "version_major": 2,
       "version_minor": 0
      },
      "text/plain": [
       "Validation: |          | 0/? [00:00<?, ?it/s]"
      ]
     },
     "metadata": {},
     "output_type": "display_data"
    },
    {
     "data": {
      "application/vnd.jupyter.widget-view+json": {
       "model_id": "",
       "version_major": 2,
       "version_minor": 0
      },
      "text/plain": [
       "Validation: |          | 0/? [00:00<?, ?it/s]"
      ]
     },
     "metadata": {},
     "output_type": "display_data"
    },
    {
     "data": {
      "application/vnd.jupyter.widget-view+json": {
       "model_id": "",
       "version_major": 2,
       "version_minor": 0
      },
      "text/plain": [
       "Validation: |          | 0/? [00:00<?, ?it/s]"
      ]
     },
     "metadata": {},
     "output_type": "display_data"
    }
   ],
   "source": [
    "# fit network\n",
    "trainer.fit(\n",
    "    tft,\n",
    "    train_dataloaders=train_dataloader,\n",
    "    val_dataloaders=val_dataloader,\n",
    ")"
   ]
  },
  {
   "cell_type": "code",
   "execution_count": 12,
   "id": "d762d278-bb1c-4a44-a91b-1894afdc0ee8",
   "metadata": {},
   "outputs": [
    {
     "name": "stderr",
     "output_type": "stream",
     "text": [
      "[I 2024-10-29 11:55:48,193] A new study created in memory with name: no-name-6949a972-a4cc-4de0-bf69-1dba1a8d6d77\n",
      "GPU available: True (cuda), used: True\n",
      "TPU available: False, using: 0 TPU cores\n",
      "HPU available: False, using: 0 HPUs\n",
      "LOCAL_RANK: 0 - CUDA_VISIBLE_DEVICES: [0]\n",
      "`Trainer.fit` stopped: `max_epochs=50` reached.\n",
      "[I 2024-10-29 12:06:00,393] Trial 0 finished with value: 0.2380194067955017 and parameters: {'gradient_clip_val': 0.15586528523972212, 'hidden_size': 77, 'dropout': 0.17734880135651354, 'hidden_continuous_size': 14, 'attention_head_size': 2, 'learning_rate': 0.019414647701837717}. Best is trial 0 with value: 0.2380194067955017.\n",
      "GPU available: True (cuda), used: True\n",
      "TPU available: False, using: 0 TPU cores\n",
      "HPU available: False, using: 0 HPUs\n",
      "LOCAL_RANK: 0 - CUDA_VISIBLE_DEVICES: [0]\n",
      "`Trainer.fit` stopped: `max_epochs=50` reached.\n",
      "[I 2024-10-29 12:16:00,423] Trial 1 finished with value: 0.5931231379508972 and parameters: {'gradient_clip_val': 0.012202556673230445, 'hidden_size': 8, 'dropout': 0.2662530599626147, 'hidden_continuous_size': 8, 'attention_head_size': 1, 'learning_rate': 0.05384721534865526}. Best is trial 0 with value: 0.2380194067955017.\n",
      "GPU available: True (cuda), used: True\n",
      "TPU available: False, using: 0 TPU cores\n",
      "HPU available: False, using: 0 HPUs\n",
      "LOCAL_RANK: 0 - CUDA_VISIBLE_DEVICES: [0]\n",
      "[I 2024-10-29 12:16:24,626] Trial 2 pruned. Trial was pruned at epoch 1.\n"
     ]
    },
    {
     "name": "stdout",
     "output_type": "stream",
     "text": [
      "{'gradient_clip_val': 0.15586528523972212, 'hidden_size': 77, 'dropout': 0.17734880135651354, 'hidden_continuous_size': 14, 'attention_head_size': 2, 'learning_rate': 0.019414647701837717}\n"
     ]
    }
   ],
   "source": [
    "import pickle\n",
    "\n",
    "from pytorch_forecasting.models.temporal_fusion_transformer.tuning import optimize_hyperparameters\n",
    "\n",
    "# create study\n",
    "study = optimize_hyperparameters(\n",
    "    train_dataloader,\n",
    "    val_dataloader,\n",
    "    model_path=\"optuna_test\",\n",
    "    n_trials=3,\n",
    "    max_epochs=50,\n",
    "    gradient_clip_val_range=(0.01, 1.0),\n",
    "    hidden_size_range=(8, 128),\n",
    "    hidden_continuous_size_range=(8, 128),\n",
    "    attention_head_size_range=(1, 4),\n",
    "    learning_rate_range=(0.001, 0.1),\n",
    "    dropout_range=(0.1, 0.3),\n",
    "    trainer_kwargs=dict(limit_train_batches=30),\n",
    "    reduce_on_plateau_patience=4,\n",
    "    use_learning_rate_finder=False,  # use Optuna to find ideal learning rate or use in-built learning rate finder\n",
    ")\n",
    "# save study results - also we can resume tuning at a later point in time\n",
    "with open(\"test_study.pkl\", \"wb\") as fout:\n",
    "    pickle.dump(study, fout)\n",
    "# show best hyperparameters\n",
    "print(study.best_trial.params)"
   ]
  },
  {
   "cell_type": "code",
   "execution_count": 17,
   "id": "2aa24b48-b069-4d10-9c28-e93d6e3f0dbc",
   "metadata": {},
   "outputs": [],
   "source": [
    "# load the best model according to the validation loss\n",
    "# (given that we use early stopping, this is not necessarily the last epoch)\n",
    "\n",
    "best_hyperparameters = {\n",
    "    \"gradient_clip_val\": 0.4727,\n",
    "    \"hidden_size\": 23,\n",
    "    \"dropout\": 0.1321,\n",
    "    \"hidden_continuous_size\": 17,\n",
    "    \"attention_head_size\": 4,\n",
    "    \"learning_rate\": 0.0010\n",
    "}\n",
    "best_model_path = trainer.checkpoint_callback.best_model_path\n",
    "\n",
    "best_tft = TemporalFusionTransformer.load_from_checkpoint(best_model_path)"
   ]
  },
  {
   "cell_type": "code",
   "execution_count": 18,
   "id": "81c97026-cd98-4932-a975-1eb25de496d7",
   "metadata": {},
   "outputs": [
    {
     "name": "stderr",
     "output_type": "stream",
     "text": [
      "GPU available: True (cuda), used: True\n",
      "TPU available: False, using: 0 TPU cores\n",
      "HPU available: False, using: 0 HPUs\n",
      "LOCAL_RANK: 0 - CUDA_VISIBLE_DEVICES: [0]\n"
     ]
    },
    {
     "data": {
      "text/plain": [
       "tensor(0.5567, device='cuda:0')"
      ]
     },
     "execution_count": 18,
     "metadata": {},
     "output_type": "execute_result"
    }
   ],
   "source": [
    "# calcualte mean absolute error on validation set\n",
    "predictions = best_tft.predict(val_dataloader, return_y=True, trainer_kwargs=dict(accelerator=\"gpu\"))\n",
    "MAE()(predictions.output, predictions.y)"
   ]
  },
  {
   "cell_type": "code",
   "execution_count": 15,
   "id": "a5583e57-19ed-4750-9499-95b898d74c2b",
   "metadata": {},
   "outputs": [
    {
     "name": "stderr",
     "output_type": "stream",
     "text": [
      "GPU available: True (cuda), used: True\n",
      "TPU available: False, using: 0 TPU cores\n",
      "HPU available: False, using: 0 HPUs\n",
      "LOCAL_RANK: 0 - CUDA_VISIBLE_DEVICES: [0]\n"
     ]
    }
   ],
   "source": [
    "# raw predictions are a dictionary from which all kind of information including quantiles can be extracted\n",
    "raw_predictions = best_tft.predict(val_dataloader, mode=\"raw\", return_x=True)"
   ]
  },
  {
   "cell_type": "code",
   "execution_count": 21,
   "id": "14b3f7cb-d46c-4911-8e4b-7542f9e57a05",
   "metadata": {},
   "outputs": [
    {
     "data": {
      "image/png": "[encoded data removed]",
      "text/plain": [
       "<Figure size 640x480 with 2 Axes>"
      ]
     },
     "metadata": {},
     "output_type": "display_data"
    }
   ],
   "source": [
    "for idx in range(1):  # plot 10 examples\n",
    "    best_tft.plot_prediction(raw_predictions.x, raw_predictions.output, idx=idx, add_loss_to_title=True)"
   ]
  },
  {
   "cell_type": "code",
   "execution_count": null,
   "id": "b5f7ef16-1b3b-4698-8be9-dad89377cbc8",
   "metadata": {},
   "outputs": [],
   "source": []
  },
  {
   "cell_type": "code",
   "execution_count": null,
   "id": "82fff470-9e18-48e8-96d8-203c90285514",
   "metadata": {},
   "outputs": [],
   "source": []
  }
 ],
 "metadata": {
  "kernelspec": {
   "display_name": "tft_pipenv",
   "language": "python",
   "name": "tft_pipenv"
  },
  "language_info": {
   "codemirror_mode": {
    "name": "ipython",
    "version": 3
   },
   "file_extension": ".py",
   "mimetype": "text/x-python",
   "name": "python",
   "nbconvert_exporter": "python",
   "pygments_lexer": "ipython3",
   "version": "3.11.9"
  }
 },
 "nbformat": 4,
 "nbformat_minor": 5
}
